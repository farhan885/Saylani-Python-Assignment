{
 "cells": [
  {
   "cell_type": "code",
   "execution_count": 2,
   "metadata": {},
   "outputs": [
    {
     "name": "stdout",
     "output_type": "stream",
     "text": [
      "Twinkle, twinkle, little star, \n",
      "\tHow I wonder what you are! \n",
      "\t\tUp above the world so high, \n",
      "\t\tLike a diamond in the sky.\n",
      "Twinkle, twinkle, little star, \n",
      "\tHow I wonder what you are\n"
     ]
    }
   ],
   "source": [
    "## Q.1\n",
    "print('Twinkle, twinkle, little star, \\n\\tHow I wonder what you are! \\n\\t\\tUp above the world so high, \\n\\t\\tLike a diamond in the sky.\\nTwinkle, twinkle, little star, \\n\\tHow I wonder what you are')"
   ]
  },
  {
   "cell_type": "code",
   "execution_count": 3,
   "metadata": {},
   "outputs": [
    {
     "name": "stdout",
     "output_type": "stream",
     "text": [
      "3.7.4 (default, Aug  9 2019, 18:34:13) [MSC v.1915 64 bit (AMD64)]\n"
     ]
    }
   ],
   "source": [
    "## Q.2\n",
    "import sys \n",
    "print(sys.version)"
   ]
  },
  {
   "cell_type": "code",
   "execution_count": 4,
   "metadata": {},
   "outputs": [
    {
     "name": "stdout",
     "output_type": "stream",
     "text": [
      "2020-01-11 17:52:02.542352\n"
     ]
    }
   ],
   "source": [
    "#Q3 \n",
    "import datetime\n",
    "currentDateTime=datetime.datetime.now()\n",
    "print(currentDateTime)"
   ]
  },
  {
   "cell_type": "code",
   "execution_count": 5,
   "metadata": {},
   "outputs": [
    {
     "name": "stdout",
     "output_type": "stream",
     "text": [
      "Enter radius of circle: 52.11\n",
      "The area of circle is:  8531.9504982\n"
     ]
    }
   ],
   "source": [
    "#Q4 \n",
    "pi=3.142\n",
    "radius= float(input('Enter radius of circle: '))\n",
    "area= pi * radius**2\n",
    "print('The area of circle is: ',area )"
   ]
  },
  {
   "cell_type": "code",
   "execution_count": 6,
   "metadata": {},
   "outputs": [
    {
     "name": "stdout",
     "output_type": "stream",
     "text": [
      "Enter your first name: Farhan\n",
      "Enter your last name: Ali\n",
      "Ali Farhan\n"
     ]
    }
   ],
   "source": [
    "#Q5 \n",
    "fName=input('Enter your first name: ')\n",
    "lName=input('Enter your last name: ')\n",
    "print(lName,fName)"
   ]
  },
  {
   "cell_type": "code",
   "execution_count": 8,
   "metadata": {},
   "outputs": [
    {
     "name": "stdout",
     "output_type": "stream",
     "text": [
      "Enter first number: 2\n",
      "Enter second number: 3\n",
      "Addition is: 5\n"
     ]
    }
   ],
   "source": [
    "# Q.6\n",
    "x= int(input('Enter first number: '))\n",
    "y= int(input('Enter second number: '))\n",
    "print('Addition is: '+str(x+y))"
   ]
  },
  {
   "cell_type": "code",
   "execution_count": null,
   "metadata": {},
   "outputs": [],
   "source": []
  }
 ],
 "metadata": {
  "kernelspec": {
   "display_name": "Python 3",
   "language": "python",
   "name": "python3"
  },
  "language_info": {
   "codemirror_mode": {
    "name": "ipython",
    "version": 3
   },
   "file_extension": ".py",
   "mimetype": "text/x-python",
   "name": "python",
   "nbconvert_exporter": "python",
   "pygments_lexer": "ipython3",
   "version": "3.7.4"
  }
 },
 "nbformat": 4,
 "nbformat_minor": 2
}
