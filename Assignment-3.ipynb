{
 "cells": [
  {
   "cell_type": "code",
   "execution_count": 6,
   "metadata": {
    "scrolled": true
   },
   "outputs": [
    {
     "name": "stdout",
     "output_type": "stream",
     "text": [
      "Enter first number : 4\n",
      "Enter second number : 3\n",
      "Choose operation to perform : \" + , - , * , / , **\" ___ **\n",
      "Power of the given numbers is :  64\n"
     ]
    }
   ],
   "source": [
    "## Q.1\n",
    "\n",
    "num1 = int(input('Enter first number : '))\n",
    "num2 = int(input('Enter second number : '))\n",
    "operation = input('Choose operation to perform : \" + , - , * , / , **\" ___ ')\n",
    "if (operation == '+'):\n",
    "    print('Sum of the given numbers is : ', num1+num2)\n",
    "elif (operation == '-'):\n",
    "    print('Difference of the given numbers is : ', num1-num2)\n",
    "elif (operation == '*'):\n",
    "    print('Multiplication of the given numbers is : ', num1*num2)\n",
    "elif (operation == '/'):\n",
    "    print('Division of the given numbers is : ', num1/num2)\n",
    "elif (operation == '**'):\n",
    "    print('Power of the given numbers is : ', num1**num2)\n",
    "else :\n",
    "    print('Please choose a valid operation to perform!')"
   ]
  },
  {
   "cell_type": "code",
   "execution_count": 8,
   "metadata": {},
   "outputs": [
    {
     "name": "stdout",
     "output_type": "stream",
     "text": [
      "{52: 'Farhan', 16: 'Haseeb'}\n",
      "{52: 'Farhan', 16: 'Haseeb', 12: 'Ali'}\n"
     ]
    }
   ],
   "source": [
    "## Q.3\n",
    "\n",
    "d = {52:'Farhan', 16:'Haseeb'}\n",
    "print(d)\n",
    "d.update({12:'Ali'})\n",
    "print(d)"
   ]
  },
  {
   "cell_type": "code",
   "execution_count": 14,
   "metadata": {},
   "outputs": [
    {
     "name": "stdout",
     "output_type": "stream",
     "text": [
      "29\n"
     ]
    }
   ],
   "source": [
    "##Q.4\n",
    "\n",
    "d = {'num1':10,'num2':-5,'num3':24}\n",
    "print(sum(d.values()))"
   ]
  },
  {
   "cell_type": "code",
   "execution_count": 18,
   "metadata": {},
   "outputs": [
    {
     "name": "stdout",
     "output_type": "stream",
     "text": [
      "[1, 2, 3, 5, 6, 4, 8]\n"
     ]
    }
   ],
   "source": [
    "##Q.5\n",
    "\n",
    "a = [1,2,3,2,1,5,6,4,8,5,4]\n",
    "dup_items = set()\n",
    "uniq_items = []\n",
    "for x in a:\n",
    "    if x not in dup_items:\n",
    "        uniq_items.append(x)\n",
    "        dup_items.add(x)\n",
    "print(uniq_items)\n"
   ]
  },
  {
   "cell_type": "code",
   "execution_count": 22,
   "metadata": {},
   "outputs": [
    {
     "name": "stdout",
     "output_type": "stream",
     "text": [
      "Key is present in the dictionary\n",
      "Key is not present in the dictionary\n",
      "Key is present in the dictionary\n"
     ]
    }
   ],
   "source": [
    "##Q.6\n",
    "\n",
    "d = {12: 'Farhan', 32: 'Haseeb', 13: 'Ali', 44: 'Mustafa', 25: 'Saif', 36: 'Asad'}\n",
    "def Key_exist(x):\n",
    "  if x in d:\n",
    "      print('Key is present in the dictionary')\n",
    "  else:\n",
    "      print('Key is not present in the dictionary')\n",
    "Key_exist(25)\n",
    "Key_exist(9)\n",
    "Key_exist(12)"
   ]
  },
  {
   "cell_type": "code",
   "execution_count": 37,
   "metadata": {},
   "outputs": [
    {
     "name": "stdout",
     "output_type": "stream",
     "text": [
      "4\n",
      "1\n",
      "1.2\n",
      "3\n"
     ]
    }
   ],
   "source": [
    "## Q.2\n",
    "\n",
    "lst= [4,1,\"Farhan\",1.2,\"Ali\", 3, \"Mustafa\"]\n",
    "\n",
    "for i in lst:\n",
    "    if type(i) is int or type(i) is float :\n",
    "        print(str(i))"
   ]
  },
  {
   "cell_type": "code",
   "execution_count": null,
   "metadata": {},
   "outputs": [],
   "source": []
  },
  {
   "cell_type": "code",
   "execution_count": null,
   "metadata": {},
   "outputs": [],
   "source": []
  }
 ],
 "metadata": {
  "kernelspec": {
   "display_name": "Python 3",
   "language": "python",
   "name": "python3"
  },
  "language_info": {
   "codemirror_mode": {
    "name": "ipython",
    "version": 3
   },
   "file_extension": ".py",
   "mimetype": "text/x-python",
   "name": "python",
   "nbconvert_exporter": "python",
   "pygments_lexer": "ipython3",
   "version": "3.7.4"
  }
 },
 "nbformat": 4,
 "nbformat_minor": 2
}
