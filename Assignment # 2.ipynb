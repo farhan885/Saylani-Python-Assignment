{
 "cells": [
  {
   "cell_type": "code",
   "execution_count": 10,
   "metadata": {},
   "outputs": [
    {
     "name": "stdout",
     "output_type": "stream",
     "text": [
      "Enter English marks : 87\n",
      "Enter Calculus Marks : 67\n",
      "Enter Basic Electronics marks : 78\n",
      "Enter Java Marks : 89\n",
      "Enter Pakistan Study marks : 88\n",
      "Subject \t |   Obtained_Marks  |  Total_Marks\n",
      "English : \t\t 87 \t\t100\n",
      "Calculus : \t\t 67 \t\t100\n",
      "Basic Electronics : \t 78 \t\t100\n",
      "Java : \t\t\t 89 \t\t100\n",
      "Pakistan Study : \t 88 \t\t100\n",
      "----------------------------------------------\n",
      "Total Obtained Marks :  409 \t\t500\n",
      "______________________________________________\n",
      "Grade   A+ \n"
     ]
    }
   ],
   "source": [
    "EnglishMarks = int(input('Enter English marks : '))\n",
    "CalculusMarks = int(input('Enter Calculus Marks : '))\n",
    "BasicElectronicsMarks = int(input('Enter Basic Electronics marks : '))\n",
    "JavaMarks = int(input('Enter Java Marks : '))\n",
    "PS_Marks = int(input('Enter Pakistan Study marks : '))\n",
    "\n",
    "Ob_Marks = EnglishMarks + CalculusMarks + BasicElectronicsMarks + JavaMarks + PS_Marks\n",
    "To_Marks = 500\n",
    "\n",
    "print('Subject \\t |   Obtained_Marks  |  Total_Marks')\n",
    "print('English : \\t\\t', EnglishMarks , '\\t\\t100')\n",
    "print('Calculus : \\t\\t', CalculusMarks , '\\t\\t100')\n",
    "print('Basic Electronics : \\t', BasicElectronicsMarks, '\\t\\t100')\n",
    "print('Java : \\t\\t\\t', JavaMarks , '\\t\\t100')\n",
    "print('Pakistan Study : \\t', PS_Marks , '\\t\\t100')\n",
    "print('----------------------------------------------')\n",
    "print('Total Obtained Marks : ', Ob_Marks , '\\t\\t500')\n",
    "print('______________________________________________')\n",
    "\n",
    "grade = (Ob_Marks * 100) / To_Marks\n",
    "if (grade <= 90):\n",
    "    print('Grade   A+ ')\n",
    "elif (grade <= 80):\n",
    "    print('Grade   A ')\n",
    "elif (grade <= 70):\n",
    "    print('Grade   B+')\n",
    "elif (grade <= 60):\n",
    "    print('Grade   B')\n",
    "elif (grade <= 55):\n",
    "    print('Grade   C+')\n",
    "elif (grade <= 50):\n",
    "    print('Grade   C')\n",
    "else:\n",
    "    print('Grade   Fail')\n",
    "\n"
   ]
  },
  {
   "cell_type": "markdown",
   "metadata": {},
   "source": [
    "print('What happend?')\n"
   ]
  },
  {
   "cell_type": "code",
   "execution_count": 11,
   "metadata": {},
   "outputs": [
    {
     "name": "stdout",
     "output_type": "stream",
     "text": [
      "Enter any number : 5\n",
      "The number  5  is Odd\n"
     ]
    }
   ],
   "source": [
    "num = int(input('Enter any number : '))\n",
    "if (num%2 == 0):\n",
    "    print('The number ', num , ' is Even')\n",
    "else:\n",
    "    print('The number ', num , ' is Odd')"
   ]
  },
  {
   "cell_type": "code",
   "execution_count": 14,
   "metadata": {},
   "outputs": [
    {
     "name": "stdout",
     "output_type": "stream",
     "text": [
      "Length of your List :  9\n"
     ]
    }
   ],
   "source": [
    "Lst = [23,24,124,453,412,45,132,42145,241] \n",
    "print('Length of your List : ', len(Lst))"
   ]
  },
  {
   "cell_type": "code",
   "execution_count": 16,
   "metadata": {},
   "outputs": [
    {
     "name": "stdout",
     "output_type": "stream",
     "text": [
      "Sum of list numerics :  43599\n"
     ]
    }
   ],
   "source": [
    "Lst = [23,24,124,453,412,45,132,42145,241]\n",
    "print('Sum of list numerics : ', sum(Lst))"
   ]
  },
  {
   "cell_type": "code",
   "execution_count": 17,
   "metadata": {},
   "outputs": [
    {
     "name": "stdout",
     "output_type": "stream",
     "text": [
      "[23, 24, 124, 453, 412, 45, 132, 42145, 241]\n",
      "Largest Number in the given list :  42145\n"
     ]
    }
   ],
   "source": [
    "Lst = [23,24,124,453,412,45,132,42145,241]\n",
    "print(Lst)\n",
    "print('Largest Number in the given list : ', max(Lst))"
   ]
  },
  {
   "cell_type": "code",
   "execution_count": 20,
   "metadata": {},
   "outputs": [
    {
     "name": "stdout",
     "output_type": "stream",
     "text": [
      "[1, 1, 2, 3]\n"
     ]
    }
   ],
   "source": [
    "a = [1, 1, 2, 3, 5, 8, 13, 21, 34, 55, 89]\n",
    "print(a[:4])"
   ]
  },
  {
   "cell_type": "code",
   "execution_count": 30,
   "metadata": {},
   "outputs": [
    {
     "name": "stdout",
     "output_type": "stream",
     "text": [
      "[1, 1, 2, 3]\n"
     ]
    }
   ],
   "source": [
    "a = [1, 1, 2, 3, 5, 8, 13, 21, 34, 55, 89]\n",
    "print(a[:4])\n",
    "        "
   ]
  },
  {
   "cell_type": "code",
   "execution_count": null,
   "metadata": {},
   "outputs": [],
   "source": []
  }
 ],
 "metadata": {
  "kernelspec": {
   "display_name": "Python 3",
   "language": "python",
   "name": "python3"
  },
  "language_info": {
   "codemirror_mode": {
    "name": "ipython",
    "version": 3
   },
   "file_extension": ".py",
   "mimetype": "text/x-python",
   "name": "python",
   "nbconvert_exporter": "python",
   "pygments_lexer": "ipython3",
   "version": "3.7.4"
  }
 },
 "nbformat": 4,
 "nbformat_minor": 2
}
